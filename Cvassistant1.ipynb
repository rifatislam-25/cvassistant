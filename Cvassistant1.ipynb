{
  "nbformat": 4,
  "nbformat_minor": 0,
  "metadata": {
    "colab": {
      "provenance": [],
      "toc_visible": true,
      "authorship_tag": "ABX9TyPXJSEe1Yw0bhkRaAYPVvk3"
    },
    "kernelspec": {
      "name": "python3",
      "display_name": "Python 3"
    },
    "language_info": {
      "name": "python"
    }
  },
  "cells": [
    {
      "cell_type": "code",
      "source": [
        "# Install required libraries\n",
        "!pip install sentence-transformers\n",
        "!pip install langchain\n"
      ],
      "metadata": {
        "id": "LU0Etp6WV5cz"
      },
      "execution_count": null,
      "outputs": []
    },
    {
      "cell_type": "code",
      "execution_count": 18,
      "metadata": {
        "colab": {
          "base_uri": "https://localhost:8080/"
        },
        "outputId": "17e429ca-9fa2-4e55-8f08-d8c7bcd04cbf",
        "id": "NieCw8uEWwpN"
      },
      "outputs": [
        {
          "output_type": "stream",
          "name": "stdout",
          "text": [
            "CV Chunks: ['Name: Md Shafiqul Islam', 'Degree: BSc in Electrical and Electronic Engineering', 'Skills: Python, SQL, Power BI, Data Analysis, AI, etc.', '\\nWork Experience: Assistant Project Manager at Floating Solar Power Plant', 'Industry Experience: Renewable energy', 'Hobbies: Reading, Travel, Technology']\n"
          ]
        }
      ],
      "source": [
        "from langchain.text_splitter import RecursiveCharacterTextSplitter\n",
        "\n",
        "cv_text = \"\"\"Name: Md Shafiqul Islam\n",
        "Degree: BSc in Electrical and Electronic Engineering\n",
        "Skills: Python, SQL, Power BI, Data Analysis, AI, etc.\n",
        "Work Experience: Assistant Project Manager at Floating Solar Power Plant\n",
        "Industry Experience: Renewable energy\n",
        "Hobbies: Reading, Travel, Technology\"\"\"\n",
        "\n",
        "# ✅ Fine-tuned splitter\n",
        "text_splitter = RecursiveCharacterTextSplitter(\n",
        "    chunk_size=60,  # Even smaller chunks for precise retrieval\n",
        "    chunk_overlap=30,  # More overlap to keep context\n",
        "    separators=[\"\\n\\n\", \"\\n\", \". \", \", \"]  # Logical breakpoints\n",
        ")\n",
        "\n",
        "cv_chunks = text_splitter.split_text(cv_text)\n",
        "\n",
        "# Print the refined chunks\n",
        "print(\"CV Chunks:\", cv_chunks)\n"
      ]
    },
    {
      "cell_type": "code",
      "source": [
        "# Step 3: Embed CV Chunks using Sentence Transformers\n",
        "from sentence_transformers import SentenceTransformer, util\n",
        "\n",
        "# Load pre-trained model for embeddings\n",
        "model = SentenceTransformer('paraphrase-MiniLM-L6-v2')"
      ],
      "metadata": {
        "id": "W7BLQQkKXCCa"
      },
      "execution_count": 19,
      "outputs": []
    },
    {
      "cell_type": "code",
      "source": [
        "# Create embeddings for CV chunks\n",
        "cv_embeddings = model.encode(cv_chunks, convert_to_tensor=True)\n",
        "\n",
        "# Step 4: Define the Question Answering Function Using Semantic Search\n",
        "def vector_search_answer(question, cv_chunks, cv_embeddings):\n",
        "    # Embed the question\n",
        "    question_embedding = model.encode([question], convert_to_tensor=True)\n",
        "\n",
        "    # Calculate cosine similarity between question and CV embeddings\n",
        "    similarities = util.pytorch_cos_sim(question_embedding, cv_embeddings)[0]\n",
        "\n",
        "    # Get the index of the most similar CV chunk\n",
        "    best_match_idx = similarities.argmax().item()\n",
        "\n",
        "    # Return the most relevant chunk\n",
        "    return cv_chunks[best_match_idx]"
      ],
      "metadata": {
        "id": "zri7xvGzbOY-"
      },
      "execution_count": 20,
      "outputs": []
    },
    {
      "cell_type": "code",
      "source": [
        "# Step 5: Test the QA system with a sample question\n",
        "question = \"What are your skills?\"\n",
        "answer = vector_search_answer(question, cv_chunks, cv_embeddings)\n",
        "print(f\"Answer to the question '{question}':\", answer)\n"
      ],
      "metadata": {
        "colab": {
          "base_uri": "https://localhost:8080/"
        },
        "id": "U7mjET_xhN-9",
        "outputId": "83896c94-6273-45f3-843e-04e73faa8f39"
      },
      "execution_count": 32,
      "outputs": [
        {
          "output_type": "stream",
          "name": "stdout",
          "text": [
            "Answer to the question 'What are your skills?': Skills: Python, SQL, Power BI, Data Analysis, AI, etc.\n"
          ]
        }
      ]
    },
    {
      "cell_type": "code",
      "source": [
        "def cv_assistant():\n",
        "    print(\"CV Assistant is ready. Ask me a question related to your CV (type 'exit' to quit):\")\n",
        "    while True:\n",
        "        question = input(\"Ask your question: \")\n",
        "        if question.lower() == 'exit':\n",
        "            print(\"Goodbye!\")\n",
        "            break\n",
        "        answer = vector_search_answer(question, cv_chunks, cv_embeddings)\n",
        "        print(f\"Answer: {answer}\")"
      ],
      "metadata": {
        "id": "IyTKhaametSb"
      },
      "execution_count": 31,
      "outputs": []
    }
  ]
}